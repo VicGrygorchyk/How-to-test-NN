version https://git-lfs.github.com/spec/v1
oid sha256:0633b950ecd6f123bc4a91d121985598be911e484b2f8f68668f13651f751199
size 287399
