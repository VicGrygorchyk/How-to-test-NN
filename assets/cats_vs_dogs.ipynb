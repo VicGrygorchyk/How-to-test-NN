version https://git-lfs.github.com/spec/v1
oid sha256:8a3d2fbe74833e787928bdc93a739aef3ec9575b8f6f489bc604b0b75a8066d1
size 891086
